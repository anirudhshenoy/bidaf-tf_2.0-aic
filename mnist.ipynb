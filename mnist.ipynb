{
 "cells": [
  {
   "cell_type": "code",
   "execution_count": 1,
   "metadata": {},
   "outputs": [],
   "source": [
    "import tensorflow as tf\n",
    "from tensorflow.keras.models import Sequential \n",
    "from tensorflow.keras.layers import Dense, Dropout, Lambda"
   ]
  },
  {
   "cell_type": "code",
   "execution_count": 2,
   "metadata": {},
   "outputs": [],
   "source": [
    "(x_train, y_train), (x_test, y_test) = tf.keras.datasets.mnist.load_data(path='mnist.npz')\n"
   ]
  },
  {
   "cell_type": "code",
   "execution_count": 3,
   "metadata": {},
   "outputs": [],
   "source": [
    "num_samples = x_train.shape[0]\n",
    "num_classes = 10"
   ]
  },
  {
   "cell_type": "code",
   "execution_count": 4,
   "metadata": {},
   "outputs": [],
   "source": [
    "ds_train = tf.data.Dataset.from_tensor_slices((x_train, y_train))\n",
    "ds_train = ds_train.map(lambda x, y: (tf.reshape(x, [-1])/255, tf.one_hot(y, num_classes)))\n",
    "ds_train = ds_train.batch(256).prefetch(1)\n",
    "\n",
    "ds_test = tf.data.Dataset.from_tensor_slices((x_test, y_test))\n",
    "ds_test = ds_test.map(lambda x, y: (tf.reshape(x, [-1])/255, tf.one_hot(y, num_classes)))\n",
    "ds_test = ds_test.batch(256).prefetch(1)\n",
    "\n"
   ]
  },
  {
   "cell_type": "code",
   "execution_count": 5,
   "metadata": {},
   "outputs": [],
   "source": [
    "tf.keras.backend.clear_session()\n"
   ]
  },
  {
   "cell_type": "code",
   "execution_count": 6,
   "metadata": {},
   "outputs": [],
   "source": [
    "@tf.function\n",
    "def cube_this(x):\n",
    "    return x**3"
   ]
  },
  {
   "cell_type": "code",
   "execution_count": 7,
   "metadata": {},
   "outputs": [],
   "source": [
    "from layers import Highway\n",
    "\n",
    "model = Sequential()\n",
    "model.add(Dense(512, activation = 'relu', input_shape = (784, )))\n",
    "model.add(Dropout(0.2))\n",
    "model.add(Highway())\n",
    "model.add(Dense(64, activation = 'relu'))\n",
    "model.add(Dropout(0.2))\n",
    "model.add(Dense(10, activation = 'softmax'))\n",
    "model.build()"
   ]
  },
  {
   "cell_type": "code",
   "execution_count": 8,
   "metadata": {},
   "outputs": [
    {
     "name": "stdout",
     "output_type": "stream",
     "text": [
      "Model: \"sequential\"\n",
      "_________________________________________________________________\n",
      "Layer (type)                 Output Shape              Param #   \n",
      "=================================================================\n",
      "dense (Dense)                (None, 512)               401920    \n",
      "_________________________________________________________________\n",
      "dropout (Dropout)            (None, 512)               0         \n",
      "_________________________________________________________________\n",
      "highway (Highway)            (None, 512)               525312    \n",
      "_________________________________________________________________\n",
      "dense_1 (Dense)              (None, 64)                32832     \n",
      "_________________________________________________________________\n",
      "dropout_1 (Dropout)          (None, 64)                0         \n",
      "_________________________________________________________________\n",
      "dense_2 (Dense)              (None, 10)                650       \n",
      "=================================================================\n",
      "Total params: 960,714\n",
      "Trainable params: 960,714\n",
      "Non-trainable params: 0\n",
      "_________________________________________________________________\n"
     ]
    }
   ],
   "source": [
    "model.summary()"
   ]
  },
  {
   "cell_type": "code",
   "execution_count": 9,
   "metadata": {},
   "outputs": [],
   "source": [
    "model.compile('RMSprop', loss = 'categorical_crossentropy', metrics = ['accuracy'])"
   ]
  },
  {
   "cell_type": "code",
   "execution_count": null,
   "metadata": {},
   "outputs": [
    {
     "name": "stdout",
     "output_type": "stream",
     "text": [
      "Epoch 1/10\n",
      "235/235 [==============================] - 6s 24ms/step - loss: 0.3806 - accuracy: 0.8995\n",
      "Epoch 2/10\n",
      "235/235 [==============================] - 4s 18ms/step - loss: 0.1751 - accuracy: 0.9550\n",
      "Epoch 3/10\n",
      "235/235 [==============================] - 4s 19ms/step - loss: 0.1344 - accuracy: 0.9652\n",
      "Epoch 4/10\n",
      "235/235 [==============================] - 4s 18ms/step - loss: 0.1126 - accuracy: 0.9706\n",
      "Epoch 5/10\n",
      "235/235 [==============================] - 4s 18ms/step - loss: 0.0979 - accuracy: 0.9743\n",
      "Epoch 6/10\n",
      "235/235 [==============================] - 4s 19ms/step - loss: 0.0923 - accuracy: 0.9763\n",
      "Epoch 7/10\n",
      "235/235 [==============================] - 5s 19ms/step - loss: 0.0946 - accuracy: 0.9771\n",
      "Epoch 8/10\n",
      "235/235 [==============================] - 5s 20ms/step - loss: 0.0771 - accuracy: 0.9806\n",
      "Epoch 9/10\n",
      "235/235 [==============================] - 5s 20ms/step - loss: 0.0771 - accuracy: 0.9813\n",
      "Epoch 10/10\n",
      "136/235 [================>.............] - ETA: 2s - loss: 0.0718 - accuracy: 0.9831"
     ]
    }
   ],
   "source": [
    "model.fit(ds_train, epochs = 10)"
   ]
  },
  {
   "cell_type": "code",
   "execution_count": null,
   "metadata": {},
   "outputs": [],
   "source": []
  }
 ],
 "metadata": {
  "kernelspec": {
   "display_name": "Python 3",
   "language": "python",
   "name": "python3"
  },
  "language_info": {
   "codemirror_mode": {
    "name": "ipython",
    "version": 3
   },
   "file_extension": ".py",
   "mimetype": "text/x-python",
   "name": "python",
   "nbconvert_exporter": "python",
   "pygments_lexer": "ipython3",
   "version": "3.7.3"
  }
 },
 "nbformat": 4,
 "nbformat_minor": 2
}
